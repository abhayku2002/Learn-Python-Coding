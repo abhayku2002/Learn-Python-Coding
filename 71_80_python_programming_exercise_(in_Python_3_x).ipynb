{
  "nbformat": 4,
  "nbformat_minor": 0,
  "metadata": {
    "colab": {
      "name": "71 - 80 python programming  exercise (in Python 3.x).ipynb",
      "provenance": []
    },
    "kernelspec": {
      "name": "python3",
      "display_name": "Python 3"
    }
  },
  "cells": [
    {
      "cell_type": "markdown",
      "metadata": {
        "id": "FPjlx8QY0Qhi"
      },
      "source": [
        "# **Question 71**\n",
        "Please write a binary search function which searches an item in a sorted list. The function should return the index of element to be searched in the list.\n",
        "\n",
        "**Hints: Use if/elif to deal with conditions.**"
      ]
    },
    {
      "cell_type": "markdown",
      "metadata": {
        "id": "0SlSfkKQ0axS"
      },
      "source": [
        "# **Solution:**"
      ]
    },
    {
      "cell_type": "code",
      "metadata": {
        "id": "A8P0P3z20Ioz",
        "outputId": "20ccb9be-0ebf-4184-db3b-e6c7d0010212",
        "colab": {
          "base_uri": "https://localhost:8080/",
          "height": 51
        }
      },
      "source": [
        "import math\n",
        "def bin_search(li, element):\n",
        "    bottom = 0\n",
        "    top = len(li)-1\n",
        "    index = -1\n",
        "    while top>=bottom and index==-1:\n",
        "        mid = int(math.floor((top+bottom)/2.0))\n",
        "        if li[mid]==element:\n",
        "            index = mid\n",
        "        elif li[mid]>element:\n",
        "            top = mid-1\n",
        "        else:\n",
        "            bottom = mid+1\n",
        "\n",
        "    return index\n",
        "\n",
        "li=[2,5,7,9,11,17,222]\n",
        "print(bin_search(li,11))\n",
        "print(bin_search(li,12))"
      ],
      "execution_count": null,
      "outputs": [
        {
          "output_type": "stream",
          "text": [
            "4\n",
            "-1\n"
          ],
          "name": "stdout"
        }
      ]
    },
    {
      "cell_type": "markdown",
      "metadata": {
        "id": "KvIg3Kw014cx"
      },
      "source": [
        "# **Question 72**\n",
        "Please generate a random float where the value is between 10 and 100 using Python math module.\n",
        "\n",
        "**Hints: Use random.random() to generate a random float in [0,1].**"
      ]
    },
    {
      "cell_type": "markdown",
      "metadata": {
        "id": "n0h3G2R60y_k"
      },
      "source": [
        "# **Solution:**"
      ]
    },
    {
      "cell_type": "code",
      "metadata": {
        "id": "zkmsfFnf16EW",
        "outputId": "6e54e58c-bccd-46b9-f9f1-2630504614a2",
        "colab": {
          "base_uri": "https://localhost:8080/",
          "height": 34
        }
      },
      "source": [
        "import random\n",
        "print(random.random()*100)"
      ],
      "execution_count": null,
      "outputs": [
        {
          "output_type": "stream",
          "text": [
            "14.506526550602207\n"
          ],
          "name": "stdout"
        }
      ]
    },
    {
      "cell_type": "markdown",
      "metadata": {
        "id": "d_Z7tmGb2vJ_"
      },
      "source": [
        "# **Question 73**\n",
        "Please generate a random float where the value is between 5 and 95 using Python math module.\n",
        "\n",
        "**Hints: Use random.random() to generate a random float in [0,1].**"
      ]
    },
    {
      "cell_type": "markdown",
      "metadata": {
        "id": "VRb55UYA27yk"
      },
      "source": [
        "# **Solution:**"
      ]
    },
    {
      "cell_type": "code",
      "metadata": {
        "id": "VaVa3j3Y3Yy3"
      },
      "source": [
        "import random\n",
        "print(random.random()*100-5)"
      ],
      "execution_count": null,
      "outputs": []
    },
    {
      "cell_type": "markdown",
      "metadata": {
        "id": "kW5Ivtsa3jV9"
      },
      "source": [
        "# **Question 74**\n",
        "Please write a program to output a random even number between 0 and 10 inclusive using random module and list comprehension.\n",
        "\n",
        "**Hints: Use random.choice() to a random element from a list.**"
      ]
    },
    {
      "cell_type": "markdown",
      "metadata": {
        "id": "inw5DqP63pUs"
      },
      "source": [
        "# **Solution:**"
      ]
    },
    {
      "cell_type": "code",
      "metadata": {
        "id": "1382AXe13upT"
      },
      "source": [
        "import random\n",
        "print(random.choice([i for i in range(11) if i%2==0]))"
      ],
      "execution_count": null,
      "outputs": []
    },
    {
      "cell_type": "markdown",
      "metadata": {
        "id": "tvo2By5S3ys8"
      },
      "source": [
        "# **Question 75**\n",
        "Please write a program to output a random number, which is divisible by 5 and 7, between 0 and 10 inclusive using random module and list comprehension.\n",
        "\n",
        "**Hints: Use random.choice() to a random element from a list.**"
      ]
    },
    {
      "cell_type": "markdown",
      "metadata": {
        "id": "zqPa68o339Gx"
      },
      "source": [
        "# **Solution:**"
      ]
    },
    {
      "cell_type": "code",
      "metadata": {
        "id": "aZPjY1Cy3-kJ"
      },
      "source": [
        "import random\n",
        "print(random.choice([i for i in range(201) if i%5==0 and i%7==0]))"
      ],
      "execution_count": null,
      "outputs": []
    },
    {
      "cell_type": "markdown",
      "metadata": {
        "id": "UtHU2OPC4Bf5"
      },
      "source": [
        "# **Question 76**\n",
        "Please write a program to generate a list with 5 random numbers between 100 and 200 inclusive.\n",
        "\n",
        "**Hints: Use random.sample() to generate a list of random values.**"
      ]
    },
    {
      "cell_type": "markdown",
      "metadata": {
        "id": "nc01_e8e4KsN"
      },
      "source": [
        "# **Solution:**"
      ]
    },
    {
      "cell_type": "code",
      "metadata": {
        "id": "XM3RFgK_4MV5",
        "outputId": "9297bc33-7deb-40c6-8eda-ed2a10baa6f0",
        "colab": {
          "base_uri": "https://localhost:8080/",
          "height": 34
        }
      },
      "source": [
        "import random\n",
        "print(random.sample(range(100), 5))"
      ],
      "execution_count": null,
      "outputs": [
        {
          "output_type": "stream",
          "text": [
            "[14, 0, 39, 6, 35]\n"
          ],
          "name": "stdout"
        }
      ]
    },
    {
      "cell_type": "markdown",
      "metadata": {
        "id": "kO_9dbF-4Vua"
      },
      "source": [
        "# **Question 77**\n",
        "Please write a program to randomly generate a list with 5 even numbers between 100 and 200 inclusive.\n",
        "\n",
        "**Hints: Use random.sample() to generate a list of random values.**\n",
        "\n"
      ]
    },
    {
      "cell_type": "markdown",
      "metadata": {
        "id": "sEBz-43g4dKL"
      },
      "source": [
        "# **Solution:**"
      ]
    },
    {
      "cell_type": "code",
      "metadata": {
        "id": "DntP8_DB4eup",
        "outputId": "a1413e7e-9edb-4564-af08-35c493a8405a",
        "colab": {
          "base_uri": "https://localhost:8080/",
          "height": 34
        }
      },
      "source": [
        "import random\n",
        "print(random.sample([i for i in range(100,201) if i%2==0], 5))"
      ],
      "execution_count": null,
      "outputs": [
        {
          "output_type": "stream",
          "text": [
            "[160, 144, 124, 166, 156]\n"
          ],
          "name": "stdout"
        }
      ]
    },
    {
      "cell_type": "markdown",
      "metadata": {
        "id": "FLYeLlLF4r3K"
      },
      "source": [
        "# **Question 78**\n",
        "Please write a program to randomly generate a list with 5 numbers, which are divisible by 5 and 7 , between 1 and 1000 inclusive.\n",
        "\n",
        "**Hints: Use random.sample() to generate a list of random values.**"
      ]
    },
    {
      "cell_type": "markdown",
      "metadata": {
        "id": "MS9aJDwE4xmR"
      },
      "source": [
        "# **Solution:**"
      ]
    },
    {
      "cell_type": "code",
      "metadata": {
        "id": "be5jlbgq40B8"
      },
      "source": [
        "import random\n",
        "print(random.sample([i for i in range(1,1001) if i%5==0 and i%7==0], 5))"
      ],
      "execution_count": null,
      "outputs": []
    },
    {
      "cell_type": "markdown",
      "metadata": {
        "id": "O6oo-esg435R"
      },
      "source": [
        "# **Question 79**\n",
        "Please write a program to randomly print a integer number between 7 and 15 inclusive.\n",
        "\n",
        "**Hints: Use random.randrange() to a random integer in a given range.**"
      ]
    },
    {
      "cell_type": "markdown",
      "metadata": {
        "id": "w3KIbfis49BD"
      },
      "source": [
        "# **Solution:**"
      ]
    },
    {
      "cell_type": "code",
      "metadata": {
        "id": "ZFLW1kHW5AXD"
      },
      "source": [
        "import random\n",
        "print(random.randrange(7,16))"
      ],
      "execution_count": null,
      "outputs": []
    },
    {
      "cell_type": "markdown",
      "metadata": {
        "id": "nUH_0p-n5E9g"
      },
      "source": [
        "# **Question 80**\n",
        "Please write a program to compress and decompress the string \"hello world!hello world!hello world!hello world!\".\n",
        "\n",
        "**Hints: Use zlib.compress() and zlib.decompress() to compress and decompress a string.**"
      ]
    },
    {
      "cell_type": "markdown",
      "metadata": {
        "id": "6lDBcZve5I73"
      },
      "source": [
        "# **Solution:**"
      ]
    },
    {
      "cell_type": "code",
      "metadata": {
        "id": "rWz7FhzP5KKP",
        "outputId": "ff742339-fd62-4091-b727-7bc20296626c",
        "colab": {
          "base_uri": "https://localhost:8080/",
          "height": 51
        }
      },
      "source": [
        "import zlib\n",
        "s = b'hello world!hello world!hello world!hello world!'\n",
        "t = zlib.compress(s)\n",
        "print(t)\n",
        "print(zlib.decompress(t))"
      ],
      "execution_count": null,
      "outputs": [
        {
          "output_type": "stream",
          "text": [
            "b'x\\x9c\\xcbH\\xcd\\xc9\\xc9W(\\xcf/\\xcaIQ\\xcc \\x82\\r\\x00\\xbd[\\x11\\xf5'\n",
            "b'hello world!hello world!hello world!hello world!'\n"
          ],
          "name": "stdout"
        }
      ]
    }
  ]
}