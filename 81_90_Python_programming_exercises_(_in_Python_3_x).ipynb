{
  "nbformat": 4,
  "nbformat_minor": 0,
  "metadata": {
    "colab": {
      "name": "81 - 90 Python programming exercises ( in Python 3.x).ipynb",
      "provenance": [],
      "collapsed_sections": []
    },
    "kernelspec": {
      "name": "python3",
      "display_name": "Python 3"
    }
  },
  "cells": [
    {
      "cell_type": "markdown",
      "metadata": {
        "id": "XYtRUL_Ifz5Z"
      },
      "source": [
        "# **Question 81**\n",
        "Please write a program to print the running time of execution of \"1+1\" for 100 times.\n",
        "\n",
        "**Hints: Use timeit() function to measure the running time.**"
      ]
    },
    {
      "cell_type": "markdown",
      "metadata": {
        "id": "S5l1uLz9gFSS"
      },
      "source": [
        "# **Solution:**"
      ]
    },
    {
      "cell_type": "code",
      "metadata": {
        "id": "IgkL3YPBfFVK"
      },
      "source": [
        "from timeit import Timer\n",
        "t = Timer(\"for i in range(100):1+1\")\n",
        "print(t.timeit())"
      ],
      "execution_count": null,
      "outputs": []
    },
    {
      "cell_type": "markdown",
      "metadata": {
        "id": "SOSHIbZSgU4F"
      },
      "source": [
        "# **Question 82**\n",
        "Please write a program to shuffle and print the list [3,6,7,8].\n",
        "\n",
        "**Hints: Use shuffle() function to shuffle a list.**"
      ]
    },
    {
      "cell_type": "markdown",
      "metadata": {
        "id": "mk3u51HYgfIr"
      },
      "source": [
        "# **Solution:**"
      ]
    },
    {
      "cell_type": "code",
      "metadata": {
        "id": "JASniDWqgkHx"
      },
      "source": [
        "from random import shuffle\n",
        "li = [3,6,7,8]\n",
        "shuffle(li)\n",
        "print(li)"
      ],
      "execution_count": null,
      "outputs": []
    },
    {
      "cell_type": "markdown",
      "metadata": {
        "id": "orN1cVckgrcu"
      },
      "source": [
        "# **Question 83**\n",
        "Please write a program to generate all sentences where subject is in [\"I\", \"You\"] and verb is in [\"Play\", \"Love\"] and the object is in [\"Hockey\",\"Football\"].\n",
        "\n",
        "**Hints: Use list[index] notation to get a element from a list.**"
      ]
    },
    {
      "cell_type": "markdown",
      "metadata": {
        "id": "RZre6CRrg00A"
      },
      "source": [
        "# **Solution:**"
      ]
    },
    {
      "cell_type": "code",
      "metadata": {
        "id": "PpVuQntmg2ee",
        "outputId": "10d5033f-1c21-4768-8475-463834c5e97d",
        "colab": {
          "base_uri": "https://localhost:8080/",
          "height": 153
        }
      },
      "source": [
        "subjects=[\"I\", \"You\"]\n",
        "verbs=[\"Play\", \"Love\"]\n",
        "objects=[\"Hockey\",\"Football\"]\n",
        "for i in range(len(subjects)):\n",
        "    for j in range(len(verbs)):\n",
        "        for k in range(len(objects)):\n",
        "            sentence = \"%s %s %s.\" % (subjects[i], verbs[j], objects[k])\n",
        "            print(sentence)"
      ],
      "execution_count": null,
      "outputs": [
        {
          "output_type": "stream",
          "text": [
            "I Play Hockey.\n",
            "I Play Football.\n",
            "I Love Hockey.\n",
            "I Love Football.\n",
            "You Play Hockey.\n",
            "You Play Football.\n",
            "You Love Hockey.\n",
            "You Love Football.\n"
          ],
          "name": "stdout"
        }
      ]
    },
    {
      "cell_type": "markdown",
      "metadata": {
        "id": "VWDh7QYXiDIb"
      },
      "source": [
        "# **Question 84**\n",
        "Please write a program to print the list after removing delete even numbers in [5,6,77,45,22,12,24].\n",
        "\n",
        "**Hints: Use list comprehension to delete a bunch of element from a list.**"
      ]
    },
    {
      "cell_type": "markdown",
      "metadata": {
        "id": "aHBZSKKUiU3h"
      },
      "source": [
        "# **Solution:**"
      ]
    },
    {
      "cell_type": "code",
      "metadata": {
        "id": "yxnJXyHHiaaV",
        "outputId": "3d0a4769-b5f7-49a0-c76a-ffaeca86960f",
        "colab": {
          "base_uri": "https://localhost:8080/",
          "height": 34
        }
      },
      "source": [
        "li = [5,6,77,45,22,12,24]\n",
        "li = [x for x in li if x%2!=0]\n",
        "print(li)"
      ],
      "execution_count": null,
      "outputs": [
        {
          "output_type": "stream",
          "text": [
            "[5, 77, 45]\n"
          ],
          "name": "stdout"
        }
      ]
    },
    {
      "cell_type": "markdown",
      "metadata": {
        "id": "E2CRY5rEip0R"
      },
      "source": [
        "# **Question 85**\n",
        "By using list comprehension, please write a program to print the list after removing delete numbers which are divisible by 5 and 7 in [12,24,35,70,88,120,155].\n",
        "\n",
        "**Hints: Use list comprehension to delete a bunch of element from a list.**"
      ]
    },
    {
      "cell_type": "markdown",
      "metadata": {
        "id": "9EAPchjii6Yl"
      },
      "source": [
        "# **Soltuion:**"
      ]
    },
    {
      "cell_type": "code",
      "metadata": {
        "id": "bn3UE3VWi9Sg",
        "outputId": "9aa22df3-77d6-435f-e607-2b9559b1bbdc",
        "colab": {
          "base_uri": "https://localhost:8080/",
          "height": 34
        }
      },
      "source": [
        "li = [12,24,35,70,88,120,155]\n",
        "li = [x for x in li if x%5!=0 and x%7!=0]\n",
        "print(li)"
      ],
      "execution_count": null,
      "outputs": [
        {
          "output_type": "stream",
          "text": [
            "[12, 24, 88]\n"
          ],
          "name": "stdout"
        }
      ]
    },
    {
      "cell_type": "markdown",
      "metadata": {
        "id": "dxBZhPK1jE1S"
      },
      "source": [
        "# **Question 86**\n",
        "By using list comprehension, please write a program to print the list after removing the 0th, 2nd, 4th,6th numbers in [12,24,35,70,88,120,155].\n",
        "\n",
        "**Hints: Use list comprehension to delete a bunch of element from a list. Use enumerate() to get (index, value) tuple.**"
      ]
    },
    {
      "cell_type": "markdown",
      "metadata": {
        "id": "af6BUbQkjOhb"
      },
      "source": [
        "# **Solution:**"
      ]
    },
    {
      "cell_type": "code",
      "metadata": {
        "id": "wFIigS34jQX_",
        "outputId": "1e630f4a-3d20-40e0-d964-37a3829bd841",
        "colab": {
          "base_uri": "https://localhost:8080/",
          "height": 34
        }
      },
      "source": [
        "li = [12,24,35,70,88,120,155]\n",
        "li = [x for (i,x) in enumerate(li) if i%2!=0]\n",
        "print(li)"
      ],
      "execution_count": null,
      "outputs": [
        {
          "output_type": "stream",
          "text": [
            "[24, 70, 120]\n"
          ],
          "name": "stdout"
        }
      ]
    },
    {
      "cell_type": "markdown",
      "metadata": {
        "id": "d71Csg6Zjm-I"
      },
      "source": [
        "# **Question 87**\n",
        "By using list comprehension, please write a program to generate a 3,5,8  3D array whose each element is 0.\n",
        "\n",
        "**Hints: Use list comprehension to make an array.**"
      ]
    },
    {
      "cell_type": "markdown",
      "metadata": {
        "id": "ENYVXhLsjusF"
      },
      "source": [
        "# **Solution:**"
      ]
    },
    {
      "cell_type": "code",
      "metadata": {
        "id": "gjkzZcaSjwPK",
        "outputId": "dce056ed-e09d-44b3-fd64-51e68c0e210b",
        "colab": {
          "base_uri": "https://localhost:8080/",
          "height": 54
        }
      },
      "source": [
        "array = [[ [0 for col in range(8)] for col in range(5)] for row in range(3)]\n",
        "print(array)"
      ],
      "execution_count": null,
      "outputs": [
        {
          "output_type": "stream",
          "text": [
            "[[[0, 0, 0, 0, 0, 0, 0, 0], [0, 0, 0, 0, 0, 0, 0, 0], [0, 0, 0, 0, 0, 0, 0, 0], [0, 0, 0, 0, 0, 0, 0, 0], [0, 0, 0, 0, 0, 0, 0, 0]], [[0, 0, 0, 0, 0, 0, 0, 0], [0, 0, 0, 0, 0, 0, 0, 0], [0, 0, 0, 0, 0, 0, 0, 0], [0, 0, 0, 0, 0, 0, 0, 0], [0, 0, 0, 0, 0, 0, 0, 0]], [[0, 0, 0, 0, 0, 0, 0, 0], [0, 0, 0, 0, 0, 0, 0, 0], [0, 0, 0, 0, 0, 0, 0, 0], [0, 0, 0, 0, 0, 0, 0, 0], [0, 0, 0, 0, 0, 0, 0, 0]]]\n"
          ],
          "name": "stdout"
        }
      ]
    },
    {
      "cell_type": "markdown",
      "metadata": {
        "id": "elGto-vjXt2l"
      },
      "source": [
        "# **Question 88**\n",
        "By using list comprehension, please write a program to print the list after removing the 0th,4th,5th numbers in [12,24,35,70,88,120,155].\n",
        "\n",
        "**Hints: Use list comprehension to delete a bunch of element from a list. Use enumerate() to get (index, value) tuple.**"
      ]
    },
    {
      "cell_type": "markdown",
      "metadata": {
        "id": "_blzhiGuYJyi"
      },
      "source": [
        "# **Solution:**"
      ]
    },
    {
      "cell_type": "code",
      "metadata": {
        "id": "-l13we4tYOJe",
        "outputId": "4cb7370b-b9af-4863-90d3-8fb339dde04c",
        "colab": {
          "base_uri": "https://localhost:8080/",
          "height": 34
        }
      },
      "source": [
        "li = [12,24,35,70,88,120,155]\n",
        "li = [x for (i,x) in enumerate(li) if i not in (0,4,5)]\n",
        "print(li)"
      ],
      "execution_count": null,
      "outputs": [
        {
          "output_type": "stream",
          "text": [
            "[24, 35, 70, 155]\n"
          ],
          "name": "stdout"
        }
      ]
    },
    {
      "cell_type": "markdown",
      "metadata": {
        "id": "uL-aR1xPYaTs"
      },
      "source": [
        "# **Question 89**\n",
        "By using list comprehension, please write a program to print the list after removing the value 24 in [12,24,35,24,88,120,155].\n",
        "\n",
        "**Hints: Use list's remove method to delete a value.**"
      ]
    },
    {
      "cell_type": "markdown",
      "metadata": {
        "id": "uXWfaqmlYhEO"
      },
      "source": [
        "# **Solution:**"
      ]
    },
    {
      "cell_type": "code",
      "metadata": {
        "id": "2QCvgXHeYkR5",
        "outputId": "4cdbda5a-649b-49c2-8467-1bff1af12110",
        "colab": {
          "base_uri": "https://localhost:8080/",
          "height": 34
        }
      },
      "source": [
        "li = [12,24,35,24,88,120,155]\n",
        "li = [x for x in li if x!=24]\n",
        "print(li)"
      ],
      "execution_count": null,
      "outputs": [
        {
          "output_type": "stream",
          "text": [
            "[12, 35, 88, 120, 155]\n"
          ],
          "name": "stdout"
        }
      ]
    },
    {
      "cell_type": "markdown",
      "metadata": {
        "id": "7IZtgrqEYo5C"
      },
      "source": [
        "# **Question 90**\n",
        "With two given lists [1,3,6,78,35,55] and [12,24,35,24,88,120,155], write a program to make a list whose elements are intersection of the above given lists.\n",
        "\n",
        "**Hints: Use set() and \"&=\" to do set intersection operation.**"
      ]
    },
    {
      "cell_type": "markdown",
      "metadata": {
        "id": "rJygUSz4Zciv"
      },
      "source": [
        "# **Solution:**"
      ]
    },
    {
      "cell_type": "code",
      "metadata": {
        "id": "W5D4BjPBZf9U",
        "outputId": "8f37f456-dd15-4059-dd06-62eec0a57551",
        "colab": {
          "base_uri": "https://localhost:8080/",
          "height": 34
        }
      },
      "source": [
        "set1=set([1,3,6,78,35,55])\n",
        "set2=set([12,24,35,24,88,120,155])\n",
        "set1 &= set2\n",
        "li=list(set1)\n",
        "print(li)"
      ],
      "execution_count": null,
      "outputs": [
        {
          "output_type": "stream",
          "text": [
            "[35]\n"
          ],
          "name": "stdout"
        }
      ]
    }
  ]
}