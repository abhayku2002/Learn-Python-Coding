{
  "nbformat": 4,
  "nbformat_minor": 0,
  "metadata": {
    "colab": {
      "name": "61 - 70 python programming  exercise (in Python 3.x).ipynb",
      "provenance": [],
      "collapsed_sections": []
    },
    "kernelspec": {
      "name": "python3",
      "display_name": "Python 3"
    }
  },
  "cells": [
    {
      "cell_type": "markdown",
      "metadata": {
        "id": "5PPkTgnvAAVe"
      },
      "source": [
        "# **Question 61**\n",
        "Write a program to read an ASCII string and to convert it to a unicode string encoded by utf-8.\n",
        "\n",
        "**Hints:Use unicode() function to convert.**"
      ]
    },
    {
      "cell_type": "markdown",
      "metadata": {
        "id": "eO0lCFOLAe_2"
      },
      "source": [
        "# **Solution:**"
      ]
    },
    {
      "cell_type": "code",
      "metadata": {
        "id": "9H1oBnIGAgZe",
        "outputId": "477996dd-d642-40ab-ca97-d2bea0fa6081",
        "colab": {
          "base_uri": "https://localhost:8080/",
          "height": 214
        }
      },
      "source": [
        "s = input()\n",
        "u = unicode( s ,'utf-8')\n",
        "print(u)"
      ],
      "execution_count": null,
      "outputs": [
        {
          "output_type": "stream",
          "text": [
            "K\n"
          ],
          "name": "stdout"
        },
        {
          "output_type": "error",
          "ename": "NameError",
          "evalue": "ignored",
          "traceback": [
            "\u001b[0;31m---------------------------------------------------------------------------\u001b[0m",
            "\u001b[0;31mNameError\u001b[0m                                 Traceback (most recent call last)",
            "\u001b[0;32m<ipython-input-20-db846140b102>\u001b[0m in \u001b[0;36m<module>\u001b[0;34m()\u001b[0m\n\u001b[1;32m      1\u001b[0m \u001b[0ms\u001b[0m \u001b[0;34m=\u001b[0m \u001b[0minput\u001b[0m\u001b[0;34m(\u001b[0m\u001b[0;34m)\u001b[0m\u001b[0;34m\u001b[0m\u001b[0;34m\u001b[0m\u001b[0m\n\u001b[0;32m----> 2\u001b[0;31m \u001b[0mu\u001b[0m \u001b[0;34m=\u001b[0m \u001b[0municode\u001b[0m\u001b[0;34m(\u001b[0m \u001b[0ms\u001b[0m \u001b[0;34m,\u001b[0m\u001b[0;34m'utf-8'\u001b[0m\u001b[0;34m)\u001b[0m\u001b[0;34m\u001b[0m\u001b[0;34m\u001b[0m\u001b[0m\n\u001b[0m\u001b[1;32m      3\u001b[0m \u001b[0mprint\u001b[0m\u001b[0;34m(\u001b[0m\u001b[0mu\u001b[0m\u001b[0;34m)\u001b[0m\u001b[0;34m\u001b[0m\u001b[0;34m\u001b[0m\u001b[0m\n",
            "\u001b[0;31mNameError\u001b[0m: name 'unicode' is not defined"
          ]
        }
      ]
    },
    {
      "cell_type": "markdown",
      "metadata": {
        "id": "55Ogciz2EDAs"
      },
      "source": [
        "# **Question 62**\n",
        "Write a special comment to indicate a Python source code file is in unicode.\n",
        "\n"
      ]
    },
    {
      "cell_type": "markdown",
      "metadata": {
        "id": "XNCEB4STEK5K"
      },
      "source": [
        "# **Solution:**"
      ]
    },
    {
      "cell_type": "code",
      "metadata": {
        "id": "yz2HIT2JFDRl"
      },
      "source": [
        "# -*- coding: utf-8 -*-\n",
        "\n",
        "#----------------------------------------#"
      ],
      "execution_count": null,
      "outputs": []
    },
    {
      "cell_type": "markdown",
      "metadata": {
        "id": "hll07VCUGVry"
      },
      "source": [
        "# **Question 63**\n",
        "Write a program to compute 1/2+2/3+3/4+...+n/n+1 with a given n input by console (n>0).\n",
        "\n",
        "Example:\n",
        "``` \n",
        "   Input: 5\n",
        "  Output: 3.55\n",
        "```\n",
        "In case of input data being supplied to the question, it should be assumed to be a console input.\n",
        "\n",
        "**Hints: Use float() to convert an integer to a float**"
      ]
    },
    {
      "cell_type": "markdown",
      "metadata": {
        "id": "PytyZSY_Gvp3"
      },
      "source": [
        "# **Solution:**"
      ]
    },
    {
      "cell_type": "code",
      "metadata": {
        "id": "dFqhnkL_GzhA",
        "outputId": "7977c9c8-66d0-4b43-864f-cb2e93da1376",
        "colab": {
          "base_uri": "https://localhost:8080/",
          "height": 51
        }
      },
      "source": [
        "n=int(input())\n",
        "sum=0.0\n",
        "for i in range(1,n+1):\n",
        "    sum += float(float(i)/(i+1))\n",
        "print(sum)"
      ],
      "execution_count": null,
      "outputs": [
        {
          "output_type": "stream",
          "text": [
            "5\n",
            "3.5500000000000003\n"
          ],
          "name": "stdout"
        }
      ]
    },
    {
      "cell_type": "markdown",
      "metadata": {
        "id": "7MckCnlmG7d1"
      },
      "source": [
        "# **Question 64**\n",
        "Write a program to compute:\n",
        "\n",
        "f(n)=f(n-1)+100 when n>0 and f(0)=1\n",
        "\n",
        "with a given n input by console (n>0).\n",
        "\n",
        "Example: \n",
        "```\n",
        "   Input: 5\n",
        "  Output: 500\n",
        "```\n",
        "In case of input data being supplied to the question, it should be assumed to be a console input.\n",
        "\n",
        "**Hints: We can define recursive function in Python.**"
      ]
    },
    {
      "cell_type": "markdown",
      "metadata": {
        "id": "_hr66-sOG-r7"
      },
      "source": [
        "# **Solution:**"
      ]
    },
    {
      "cell_type": "code",
      "metadata": {
        "id": "DROOM0X0JdHr",
        "outputId": "30192f72-f439-4d2b-a65f-ee74bc3247df",
        "colab": {
          "base_uri": "https://localhost:8080/",
          "height": 51
        }
      },
      "source": [
        "def f(n):\n",
        "    if n==0:\n",
        "        return 0\n",
        "    else:\n",
        "        return f(n-1)+100\n",
        "\n",
        "n=int(input())\n",
        "print(f(n))"
      ],
      "execution_count": null,
      "outputs": [
        {
          "output_type": "stream",
          "text": [
            "5\n",
            "500\n"
          ],
          "name": "stdout"
        }
      ]
    },
    {
      "cell_type": "markdown",
      "metadata": {
        "id": "OPjc3W28JmHg"
      },
      "source": [
        "# **Question 65**\n",
        "The Fibonacci Sequence is computed based on the following formula:\n",
        "\n",
        "f(n)=0 if n=0 f(n)=1 if n=1 f(n)=f(n-1)+f(n-2) if n>1\n",
        "\n",
        "Please write a program to compute the value of f(n) with a given n input by console.\n",
        "\n",
        "Example:\n",
        "``` \n",
        "   Input: 7\n",
        "  Output: 13\n",
        "```\n",
        "In case of input data being supplied to the question, it should be assumed to be a console input.\n",
        "\n",
        "**Hints: We can define recursive function in Python.**\n",
        "\n"
      ]
    },
    {
      "cell_type": "markdown",
      "metadata": {
        "id": "zjypOaoBKBHn"
      },
      "source": [
        "# **Solution:**"
      ]
    },
    {
      "cell_type": "code",
      "metadata": {
        "id": "FUbM5nG1KCbI",
        "outputId": "25a7898f-28ff-4a84-e55c-c570e6e8610c",
        "colab": {
          "base_uri": "https://localhost:8080/",
          "height": 51
        }
      },
      "source": [
        "def f(n):\n",
        "    if n == 0: return 0\n",
        "    elif n == 1: return 1\n",
        "    else: return f(n-1)+f(n-2)\n",
        "\n",
        "n=int(input())\n",
        "print(f(n))"
      ],
      "execution_count": null,
      "outputs": [
        {
          "output_type": "stream",
          "text": [
            "7\n",
            "13\n"
          ],
          "name": "stdout"
        }
      ]
    },
    {
      "cell_type": "markdown",
      "metadata": {
        "id": "1EyuDmg2QyFx"
      },
      "source": [
        "# **Question 66**\n",
        "The Fibonacci Sequence is computed based on the following formula:\n",
        "\n",
        "f(n)=0 if n=0 f(n)=1 if n=1 f(n)=f(n-1)+f(n-2) if n>1\n",
        "\n",
        "Please write a program using list comprehension to print the Fibonacci Sequence in comma separated form with a given n input by console.\n",
        "\n",
        "Example: \n",
        "```\n",
        "   Input: 7\n",
        "  output: 0,1,1,2,3,5,8,13\n",
        "```\n",
        "**Hints: We can define recursive function in Python. Use list comprehension to generate a list from an existing list. Use string.join() to join a list of strings.**\n",
        "\n",
        "In case of input data being supplied to the question, it should be assumed to be a console input."
      ]
    },
    {
      "cell_type": "markdown",
      "metadata": {
        "id": "P-1Om8WiRHjJ"
      },
      "source": [
        "# **Solution:**"
      ]
    },
    {
      "cell_type": "code",
      "metadata": {
        "id": "ZLYSEmBPRKm1",
        "outputId": "98c0fc46-fbc9-42d3-98ef-11b27112d96d",
        "colab": {
          "base_uri": "https://localhost:8080/",
          "height": 51
        }
      },
      "source": [
        "def f(n):\n",
        "    if n == 0: return 0\n",
        "    elif n == 1: return 1\n",
        "    else: return f(n-1)+f(n-2)\n",
        "\n",
        "n=int(input())\n",
        "values = [str(f(x)) for x in range(0, n+1)]\n",
        "print(\",\".join(values))"
      ],
      "execution_count": null,
      "outputs": [
        {
          "output_type": "stream",
          "text": [
            "7\n",
            "0,1,1,2,3,5,8,13\n"
          ],
          "name": "stdout"
        }
      ]
    },
    {
      "cell_type": "markdown",
      "metadata": {
        "id": "z8sR2YUtRO5x"
      },
      "source": [
        "# **Question 67**\n",
        "Please write a program using generator to print the even numbers between 0 and n in comma separated form while n is input by console.\n",
        "\n",
        "Example: \n",
        "```\n",
        "   Input: 10\n",
        "  output: 0,2,4,6,8,10\n",
        "```\n",
        "**Hints: Use yield to produce the next value in generator.**\n",
        "\n",
        "In case of input data being supplied to the question, it should be assumed to be a console input.\n",
        "\n"
      ]
    },
    {
      "cell_type": "markdown",
      "metadata": {
        "id": "hy3mKd9VRjGo"
      },
      "source": [
        "# **Solution:**"
      ]
    },
    {
      "cell_type": "code",
      "metadata": {
        "id": "O2BjsqXzRh7D",
        "outputId": "e447a67c-5c76-426a-ccbd-d63e68a529c6",
        "colab": {
          "base_uri": "https://localhost:8080/",
          "height": 51
        }
      },
      "source": [
        "def EvenGenerator(n):\n",
        "    i=0\n",
        "    while i<=n:\n",
        "        if i%2==0:\n",
        "            yield i\n",
        "        i+=1\n",
        "\n",
        "\n",
        "n=int(input())\n",
        "values = []\n",
        "for i in EvenGenerator(n):\n",
        "    values.append(str(i))\n",
        "\n",
        "print(\",\".join(values))"
      ],
      "execution_count": null,
      "outputs": [
        {
          "output_type": "stream",
          "text": [
            "10\n",
            "0,2,4,6,8,10\n"
          ],
          "name": "stdout"
        }
      ]
    },
    {
      "cell_type": "markdown",
      "metadata": {
        "id": "mTM_z1cxRuPI"
      },
      "source": [
        "# **Question 68**\n",
        "Please write a program using generator to print the numbers which can be divisible by 5 and 7 between 0 and n in comma separated form while n is input by console.\n",
        "\n",
        "Example: \n",
        "```\n",
        "  Input: 100\n",
        " Output: 0,35,70\n",
        "```\n",
        "**Hints: Use yield to produce the next value in generator.**\n",
        "\n",
        "In case of input data being supplied to the question, it should be assumed to be a console input.\n",
        "\n"
      ]
    },
    {
      "cell_type": "markdown",
      "metadata": {
        "id": "pHfqRsvFSEAP"
      },
      "source": [
        "# **Solution:**"
      ]
    },
    {
      "cell_type": "code",
      "metadata": {
        "id": "zKxWKV7KSHuB",
        "outputId": "2e42f1f3-890b-4a33-def6-522a6387de46",
        "colab": {
          "base_uri": "https://localhost:8080/",
          "height": 51
        }
      },
      "source": [
        "def NumGenerator(n):\n",
        "    for i in range(n+1):\n",
        "        if i%5==0 and i%7==0:\n",
        "            yield i\n",
        "\n",
        "n=int(input())\n",
        "values = []\n",
        "for i in NumGenerator(n):\n",
        "    values.append(str(i))\n",
        "\n",
        "print(\",\".join(values))"
      ],
      "execution_count": null,
      "outputs": [
        {
          "output_type": "stream",
          "text": [
            "100\n",
            "0,35,70\n"
          ],
          "name": "stdout"
        }
      ]
    },
    {
      "cell_type": "markdown",
      "metadata": {
        "id": "88AwkOoiSKwA"
      },
      "source": [
        "# **Question 69**\n",
        "Please write assert statements to verify that every number in the list [2,4,6,8] is even.\n",
        "\n",
        "**Hints: Use \"assert expression\" to make assertion.**"
      ]
    },
    {
      "cell_type": "markdown",
      "metadata": {
        "id": "1ZT3f4bgST6H"
      },
      "source": [
        "# **Solution:**"
      ]
    },
    {
      "cell_type": "code",
      "metadata": {
        "id": "9s39AUfBSXe6",
        "outputId": "faf218ec-64c2-411e-840c-85003ad26df7",
        "colab": {
          "base_uri": "https://localhost:8080/",
          "height": 85
        }
      },
      "source": [
        "li = [2,4,6,8]\n",
        "for i in li:\n",
        "    assert i%2==0\n",
        "    print(\"even\")"
      ],
      "execution_count": null,
      "outputs": [
        {
          "output_type": "stream",
          "text": [
            "even\n",
            "even\n",
            "even\n",
            "even\n"
          ],
          "name": "stdout"
        }
      ]
    },
    {
      "cell_type": "markdown",
      "metadata": {
        "id": "BHVwqcyaTC9l"
      },
      "source": [
        "# **Question 70**\n",
        "Please write a program which accepts basic mathematic expression from console and print the evaluation result.\n",
        "\n",
        "Example: \n",
        "```\n",
        "    Input: 35+3\n",
        "   Output: 38\n",
        "```\n",
        "**Hints: Use eval() to evaluate an expression.**\n",
        "\n"
      ]
    },
    {
      "cell_type": "markdown",
      "metadata": {
        "id": "MSpuDCBTThOt"
      },
      "source": [
        "# **Solution:**"
      ]
    },
    {
      "cell_type": "code",
      "metadata": {
        "id": "TpXByB2jTjnv",
        "outputId": "4d047eb6-ef76-4a79-b16b-8ef1ea87b904",
        "colab": {
          "base_uri": "https://localhost:8080/",
          "height": 51
        }
      },
      "source": [
        "expression =input()\n",
        "print(eval(expression))"
      ],
      "execution_count": null,
      "outputs": [
        {
          "output_type": "stream",
          "text": [
            "35+3\n",
            "38\n"
          ],
          "name": "stdout"
        }
      ]
    }
  ]
}