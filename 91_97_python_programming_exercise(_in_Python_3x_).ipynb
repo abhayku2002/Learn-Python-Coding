{
  "nbformat": 4,
  "nbformat_minor": 0,
  "metadata": {
    "colab": {
      "name": "91 - 97 python programming exercise( in Python 3x ).ipynb",
      "provenance": [],
      "collapsed_sections": []
    },
    "kernelspec": {
      "name": "python3",
      "display_name": "Python 3"
    }
  },
  "cells": [
    {
      "cell_type": "markdown",
      "metadata": {
        "id": "xL3VHbHey50o"
      },
      "source": [
        "# **Question 91**\n",
        "With a given list [12,24,35,24,88,120,155,88,120,155], write a program to print this list after removing all duplicate values with original order reserved.\n",
        "\n",
        "**Hints: Use set() to store a number of values without duplicate.**"
      ]
    },
    {
      "cell_type": "markdown",
      "metadata": {
        "id": "1V_O1rbwzeR4"
      },
      "source": [
        "# **Solution:**"
      ]
    },
    {
      "cell_type": "code",
      "metadata": {
        "id": "BtLgWhu7zh4_",
        "outputId": "7cb6062b-ba6f-4cd9-ed2b-d68499ed4eb8",
        "colab": {
          "base_uri": "https://localhost:8080/"
        }
      },
      "source": [
        "def removeDuplicate( li ):\n",
        "    newli=[]\n",
        "    seen = set()\n",
        "    for item in li:\n",
        "        if item not in seen:\n",
        "            seen.add( item )\n",
        "            newli.append(item)\n",
        "\n",
        "    return newli\n",
        "\n",
        "li=[12,24,35,24,88,120,155,88,120,155]\n",
        "print(removeDuplicate(li))"
      ],
      "execution_count": null,
      "outputs": [
        {
          "output_type": "stream",
          "text": [
            "[12, 24, 35, 88, 120, 155]\n"
          ],
          "name": "stdout"
        }
      ]
    },
    {
      "cell_type": "markdown",
      "metadata": {
        "id": "0W71XnaLzmlf"
      },
      "source": [
        "# **Question 92**\n",
        "Define a class Person and its two child classes: Male and Female. All classes have a method \"getGender\" which can print \"Male\" for Male class and \"Female\" for Female class.\n",
        "\n",
        "**Hints: Use Subclass(Parentclass) to define a child class.**"
      ]
    },
    {
      "cell_type": "markdown",
      "metadata": {
        "id": "jCijO-Ztzwov"
      },
      "source": [
        "# **Solution:**"
      ]
    },
    {
      "cell_type": "code",
      "metadata": {
        "id": "yWh34PCpz0IK",
        "outputId": "15dab1c6-ba8f-45d8-b2cc-7b5bb0546741",
        "colab": {
          "base_uri": "https://localhost:8080/"
        }
      },
      "source": [
        "class Person(object):\n",
        "    def getGender( self ):\n",
        "        return \"Unknown\"\n",
        "\n",
        "class Male( Person ):\n",
        "    def getGender( self ):\n",
        "        return \"Male\"\n",
        "\n",
        "class Female( Person ):\n",
        "    def getGender( self ):\n",
        "        return \"Female\"\n",
        "\n",
        "aMale = Male()\n",
        "aFemale= Female()\n",
        "print(aMale.getGender())\n",
        "print(aFemale.getGender())"
      ],
      "execution_count": null,
      "outputs": [
        {
          "output_type": "stream",
          "text": [
            "Male\n",
            "Female\n"
          ],
          "name": "stdout"
        }
      ]
    },
    {
      "cell_type": "markdown",
      "metadata": {
        "id": "PvHydFUQz5qg"
      },
      "source": [
        "# **Question 93**\n",
        "Please write a program which count and print the numbers of each character in a string input by console.\n",
        "\n",
        "Example: \n",
        "```\n",
        "   input: abcdefgabc\n",
        "  output: a,2 c,2 b,2 e,1 d,1 g,1 f,1\n",
        "```\n",
        "**Hints: Use dict to store key/value pairs. Use dict.get() method to lookup a key with default value.**"
      ]
    },
    {
      "cell_type": "markdown",
      "metadata": {
        "id": "Oo9CGj-s0Q18"
      },
      "source": [
        "# **Solution:**"
      ]
    },
    {
      "cell_type": "code",
      "metadata": {
        "id": "ctSRjKOW0TND",
        "outputId": "d42e7d0e-4e45-49d9-90dd-324b7849ce88",
        "colab": {
          "base_uri": "https://localhost:8080/"
        }
      },
      "source": [
        "dic = {}\n",
        "s=input()\n",
        "for s in s:\n",
        "    dic[s] = dic.get(s,0)+1\n",
        "print('\\n'.join(['%s,%s' % (k, v) for k, v in dic.items()]))"
      ],
      "execution_count": null,
      "outputs": [
        {
          "output_type": "stream",
          "text": [
            "abcdefgabc\n",
            "a,2\n",
            "b,2\n",
            "c,2\n",
            "d,1\n",
            "e,1\n",
            "f,1\n",
            "g,1\n"
          ],
          "name": "stdout"
        }
      ]
    },
    {
      "cell_type": "markdown",
      "metadata": {
        "id": "quPeVXQP0c6Z"
      },
      "source": [
        "# **Question 94**\n",
        "Please write a program which accepts a string from console and print it in reverse order.\n",
        "\n",
        "Example:\n",
        "```\n",
        "   input:  rise to vote sir\n",
        "  output:  ris etov ot esir\n",
        "```\n",
        "**Hints: Use list[::-1] to iterate a list in a reverse order.**"
      ]
    },
    {
      "cell_type": "code",
      "metadata": {
        "id": "e9pHmyb702P4",
        "outputId": "95a8c4b6-bfcf-439c-e576-317825973af9",
        "colab": {
          "base_uri": "https://localhost:8080/"
        }
      },
      "source": [
        "s=input()\n",
        "s = s[::-1]\n",
        "print(s)"
      ],
      "execution_count": null,
      "outputs": [
        {
          "output_type": "stream",
          "text": [
            "rise to vote sir\n",
            "ris etov ot esir\n"
          ],
          "name": "stdout"
        }
      ]
    },
    {
      "cell_type": "markdown",
      "metadata": {
        "id": "Z-V20iCX08z_"
      },
      "source": [
        "# **Question 95**\n",
        "Please write a program which accepts a string from console and print the characters that have even indexes.\n",
        "\n",
        "Example:  \n",
        "```\n",
        "   Input : H1e2l3l4o5w6o7r8l9d\n",
        "  Output : Helloworld\n",
        "```\n",
        "**Hints: Use list[::2] to iterate a list by step 2.**"
      ]
    },
    {
      "cell_type": "code",
      "metadata": {
        "id": "4yuc02OR1TNe",
        "outputId": "a0c0f601-2977-4756-e2dc-d16dbdafe764",
        "colab": {
          "base_uri": "https://localhost:8080/"
        }
      },
      "source": [
        "s=input()\n",
        "s = s[::2]\n",
        "print(s)"
      ],
      "execution_count": null,
      "outputs": [
        {
          "output_type": "stream",
          "text": [
            "H1e2l3l4o5w6o7r8l9d\n",
            "Helloworld\n"
          ],
          "name": "stdout"
        }
      ]
    },
    {
      "cell_type": "markdown",
      "metadata": {
        "id": "ElNXsUwy1a7Q"
      },
      "source": [
        "# **Question 96**\n",
        "Please write a program which prints all permutations of [1,2,3]\n",
        "\n",
        "**Hints: Use itertools.permutations() to get permutations of list.**"
      ]
    },
    {
      "cell_type": "markdown",
      "metadata": {
        "id": "fCLMDepk1kFl"
      },
      "source": [
        "# **Solution:**"
      ]
    },
    {
      "cell_type": "code",
      "metadata": {
        "id": "HLVeiDog1mDn",
        "outputId": "1c873bfc-2958-4e0d-98d5-e073a26f7831",
        "colab": {
          "base_uri": "https://localhost:8080/"
        }
      },
      "source": [
        "import itertools\n",
        "print(list(itertools.permutations([1,2,3])))"
      ],
      "execution_count": null,
      "outputs": [
        {
          "output_type": "stream",
          "text": [
            "[(1, 2, 3), (1, 3, 2), (2, 1, 3), (2, 3, 1), (3, 1, 2), (3, 2, 1)]\n"
          ],
          "name": "stdout"
        }
      ]
    },
    {
      "cell_type": "markdown",
      "metadata": {
        "id": "19xpFIvs1pzr"
      },
      "source": [
        "# **Question 97**\n",
        "Write a program to solve a classic ancient Chinese puzzle: We count 35 heads and 94 legs among the chickens and rabbits in a farm. How many rabbits and how many chickens do we have?\n",
        "\n",
        "**Hint: Use for loop to iterate all possible solutions.**"
      ]
    },
    {
      "cell_type": "markdown",
      "metadata": {
        "id": "cKjD49db1yGa"
      },
      "source": [
        "# **Solution:**"
      ]
    },
    {
      "cell_type": "code",
      "metadata": {
        "id": "6rG3dkbH10Ye",
        "outputId": "67b88a85-9dda-42ed-f90e-fa026883bb55",
        "colab": {
          "base_uri": "https://localhost:8080/"
        }
      },
      "source": [
        "def solve(numheads,numlegs):\n",
        "    ns='No solutions!'\n",
        "    for i in range(numheads+1):\n",
        "        j=numheads-i\n",
        "        if 2*i+4*j==numlegs:\n",
        "            return i,j\n",
        "    return ns,ns\n",
        "\n",
        "numheads=35\n",
        "numlegs=94\n",
        "solutions=solve(numheads,numlegs)\n",
        "print(solutions)"
      ],
      "execution_count": null,
      "outputs": [
        {
          "output_type": "stream",
          "text": [
            "(23, 12)\n"
          ],
          "name": "stdout"
        }
      ]
    }
  ]
}